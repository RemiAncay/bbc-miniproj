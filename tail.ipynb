{
 "cells": [
  {
   "cell_type": "markdown",
   "id": "9175d626",
   "metadata": {},
   "source": [
    "# Récupération des gènes contenant \"tail\""
   ]
  },
  {
   "cell_type": "code",
   "execution_count": 53,
   "id": "313bea8c",
   "metadata": {},
   "outputs": [],
   "source": [
    "import os\n",
    "import time\n",
    "import pandas as pd\n",
    "\n",
    "from Bio import Entrez, SeqIO\n",
    "from itertools import islice"
   ]
  },
  {
   "cell_type": "markdown",
   "id": "463a100e",
   "metadata": {},
   "source": [
    "Liste des \"accession number\" de chaque phage, fait manuellement parce que c'était trop lent à faire ne python"
   ]
  },
  {
   "cell_type": "code",
   "execution_count": 27,
   "id": "06053742",
   "metadata": {},
   "outputs": [
    {
     "name": "stdout",
     "output_type": "stream",
     "text": [
      "longueur avec doublons: 33\n",
      "longueur sans doublons: 33\n"
     ]
    }
   ],
   "source": [
    "accession_list = {\n",
    "    \"LN610575.1\", \"PV268492.1\",\"NC_019918.1\", \"OQ319934.1\", \"NC_024140.1\",\n",
    "    \"KM434184.1\", \"ON815903.1\", \"PP100125.1\", \"PQ287643.1\", \"OP342787.1\",\n",
    "    \"PQ287643.1\", \"LN610576.1\", \"NC_026599.1\", \"NC_041870.1\", \"MT119368.1\",\n",
    "    \"OQ319934.1\", \"MT119368.1\", \"NC_007810.1\", \"MH536736.1\", \"MT119368.1\",\n",
    "    \"PQ741806.1\", \"NC_026587.1\", \"LN610579.1\", \"NC_019813.1\", \"LN907801.1\",\n",
    "    \"NC_026601.1\", \"NC_007810.1\", \"KP340287.1\", \"MH536736.1\", \"KP340287.1\",\n",
    "    \"PQ676539.1\", \"PV036882.1\", \"MT119369.1\", \"NC_026602.1\", \"OQ831730.1\",\n",
    "    \"NC_010325.1\", \"OR611941.1\", \"AB910392.1\", \"MK803322.1\", \"MK803322.1\",\n",
    "    \"AB910392.1\", \"CP106742.1\"\n",
    "}\n",
    "\n",
    "accession_dict = {\n",
    "    5281:\"LN610575.1\", 5282:\"PV268492.1\", 5283:\"NC_019918.1\", 5284:\"OQ319934.1\", 5285:\"NC_024140.1\",\n",
    "    5286:\"KM434184.1\", 5287:\"ON815903.1\", 5288:\"PP100125.1\", 5289:\"PQ287643.1\", 5290:\"OP342787.1\",\n",
    "    5291:\"PQ287643.1\", 5292:\"LN610576.1\", 5293:\"NC_026599.1\", 5294:\"NC_041870.1\", 5295:\"MT119368.1\",\n",
    "    5296:\"OQ319934.1\", 5297:\"MT119368.1\", 5298:\"NC_007810.1\", 5299:\"MH536736.1\", 5300:\"MT119368.1\",\n",
    "    5301:\"PQ741806.1\", 5302:\"NC_026587.1\", 5303:\"LN610579.1\", 5304:\"NC_019813.1\", 5305:\"LN907801.1\",\n",
    "    5306:\"NC_026601.1\", 5307:\"NC_007810.1\", 5308:\"KP340287.1\", 5309:\"MH536736.1\", 5310:\"KP340287.1\",\n",
    "    5311:\"PQ676539.1\", 5312:\"PV036882.1\", 5313:\"MT119369.1\", 5314:\"NC_026602.1\", 5315:\"OQ831730.1\",\n",
    "    5316:\"NC_010325.1\", 5317:\"OR611941.1\", 5318:\"AB910392.1\", 5319:\"MK803322.1\", 5320:\"MK803322.1\",\n",
    "    5322:\"AB910392.1\", 5323:\"CP106742.1\"\n",
    "}\n",
    "\n",
    "print(f'longueur avec doublons: {len(accession_list)}')\n",
    "accession_list = set(accession_list)\n",
    "print(f'longueur sans doublons: {len(accession_list)}')"
   ]
  },
  {
   "cell_type": "code",
   "execution_count": null,
   "id": "47af3a66",
   "metadata": {},
   "outputs": [],
   "source": [
    "Entrez.email = \"michael.strefeler@heig-vd.ch\"\n",
    "\n",
    "def download_genbank(accession, out_dir=\"data/genbank_files\"):\n",
    "    os.makedirs(out_dir, exist_ok=True)\n",
    "    filename = os.path.join(out_dir, f\"{accession}.gbff\")\n",
    "\n",
    "    if os.path.exists(filename):\n",
    "        print(f\"Already downloaded: {filename}\")\n",
    "        return filename\n",
    "\n",
    "    try:\n",
    "        with Entrez.efetch(db=\"nucleotide\", id=accession, rettype=\"gbwithparts\", retmode=\"text\") as handle:\n",
    "            with open(filename, \"w\") as out_handle:\n",
    "                out_handle.write(handle.read())\n",
    "        time.sleep(0.5)  # Be polite to NCBI\n",
    "        return filename\n",
    "    except Exception as e:\n",
    "        print(f\"Failed to download {accession}: {e}\")\n",
    "        return None"
   ]
  },
  {
   "cell_type": "code",
   "execution_count": 25,
   "id": "abd7c137",
   "metadata": {},
   "outputs": [],
   "source": [
    "for acc in accession_list:\n",
    "    download_genbank(acc)"
   ]
  },
  {
   "cell_type": "markdown",
   "id": "6703cf35",
   "metadata": {},
   "source": [
    "Liste des gènes \"tail\" qu'on trouve dans chaque fichier genbank"
   ]
  },
  {
   "cell_type": "code",
   "execution_count": 33,
   "id": "2d0e3804",
   "metadata": {},
   "outputs": [
    {
     "data": {
      "text/plain": [
       "[('LN610579.1', 'CEF89835.1', 'putative tail fiber protein'),\n",
       " ('LN610579.1', 'CEF89841.1', 'putative tail fiber protein'),\n",
       " ('LN610579.1', 'CEF89846.1', 'putative baseplate protein'),\n",
       " ('LN610579.1', 'CEF89849.1', 'putative tail fiber protein'),\n",
       " ('LN610579.1', 'CEF89867.1', 'putative tail assembly protein')]"
      ]
     },
     "execution_count": 33,
     "metadata": {},
     "output_type": "execute_result"
    }
   ],
   "source": [
    "gbff_directory = \"data/genbank_files\"\n",
    "\n",
    "# Store the accession numbers of matching genes\n",
    "tail_genes = []\n",
    "\n",
    "tail_keywords = [\n",
    "    \"tail\", \"fiber\", \"baseplate\", \"sheath\", \"tube\", \"tape measure\", \n",
    "    \"portal\", \"neck\", \"adapter\", \"head-to-tail\", \"connector\"\n",
    "]\n",
    "\n",
    "# Loop through all .gbff files\n",
    "for filename in os.listdir(gbff_directory):\n",
    "    if filename.endswith(\".gbff\"):\n",
    "        file_path = os.path.join(gbff_directory, filename)\n",
    "        \n",
    "        for record in SeqIO.parse(file_path, \"genbank\"):\n",
    "            for feature in record.features:\n",
    "                if feature.type == \"CDS\":\n",
    "                    qualifiers = feature.qualifiers\n",
    "                    if any(keyword in qualifiers.get(key, [\"\"])[0].lower() \n",
    "                           for key in [\"product\", \"note\", \"protein_id\", \"gene\", \"gene_synonym\", \"function\"] if key in qualifiers\n",
    "                           for keyword in tail_keywords):\n",
    "\n",
    "                        # Try to extract useful identifiers\n",
    "                        accession = record.id\n",
    "                        protein_id = qualifiers.get(\"protein_id\", [\"N/A\"])[0]\n",
    "                        product = qualifiers.get(\"product\", [\"N/A\"])[0]\n",
    "                        \n",
    "                        tail_genes.append((accession, protein_id, product))\n",
    "\n",
    "tail_genes[0:5]"
   ]
  },
  {
   "cell_type": "code",
   "execution_count": null,
   "id": "c6b8f722",
   "metadata": {},
   "outputs": [
    {
     "data": {
      "text/plain": [
       "{5281: [('CEF89381.1', 'putative tail length tape-measure protein'),\n",
       "  ('CEF89391.1', 'putative tail fiber protein')],\n",
       " 5282: [],\n",
       " 5283: [('YP_007236842.1',\n",
       "   'RNA ligase and tail fiber protein attachment catalyst'),\n",
       "  ('YP_007236878.1', 'tail sheath'),\n",
       "  ('YP_007236882.1', 'tail assembly chaperone'),\n",
       "  ('YP_007236883.1', 'tail length tape measure protein'),\n",
       "  ('YP_007236884.1', 'tail fiber protein'),\n",
       "  ('YP_007236892.1', 'tail fiber protein'),\n",
       "  ('YP_007236893.1', 'tail fiber assembly'),\n",
       "  ('YP_007236894.1', 'tail fiber protein')],\n",
       " 5284: [],\n",
       " 5285: [('YP_009031825.1', 'tail fiber protein'),\n",
       "  ('YP_009031828.1', 'tail fiber protein'),\n",
       "  ('YP_009031850.1', 'tail length tape measure protein')]}"
      ]
     },
     "execution_count": 49,
     "metadata": {},
     "output_type": "execute_result"
    }
   ],
   "source": [
    "# Initialize result dictionary\n",
    "phage_tail_genes = {phage_num: [] for phage_num in accession_dict}\n",
    "\n",
    "# Reverse lookup: accession to phage number\n",
    "accession_to_phage = {v: k for k, v in accession_dict.items()}\n",
    "\n",
    "for filename in os.listdir(gbff_directory):\n",
    "    if filename.endswith(\".gbff\"):\n",
    "        file_path = os.path.join(gbff_directory, filename)\n",
    "        \n",
    "        for record in SeqIO.parse(file_path, \"genbank\"):\n",
    "            accession = record.id\n",
    "            phage_num = accession_to_phage.get(accession)\n",
    "\n",
    "            if phage_num is None:\n",
    "                continue  # skip files not in your accession_dict\n",
    "\n",
    "            for feature in record.features:\n",
    "                if feature.type == \"CDS\":\n",
    "                    qualifiers = feature.qualifiers\n",
    "\n",
    "                    # Look for 'tail' in various qualifiers\n",
    "                    if any(\"tail\" in qualifiers.get(key, [\"\"])[0].lower() \n",
    "                           for key in [\"product\", \"note\", \"protein_id\", \"gene\", \"gene_synonym\", \"function\"] \n",
    "                           if key in qualifiers):\n",
    "\n",
    "                        protein_id = qualifiers.get(\"protein_id\", [\"N/A\"])[0]\n",
    "                        product = qualifiers.get(\"product\", [\"N/A\"])[0]\n",
    "\n",
    "                        phage_tail_genes[phage_num].append((protein_id, product))\n",
    "                        \n",
    "dict(islice(phage_tail_genes.items(), 0, 5))"
   ]
  },
  {
   "cell_type": "markdown",
   "id": "f56f05f8",
   "metadata": {},
   "source": [
    "Maintenant qu'on a la liste des gènes \"tail\" par phage on doit..."
   ]
  },
  {
   "cell_type": "code",
   "execution_count": 61,
   "id": "153bfdfa",
   "metadata": {},
   "outputs": [
    {
     "data": {
      "text/plain": [
       "[('CUT98408.1', 'putative head-tail connector protein'),\n",
       " ('CUT98414.1', 'putative tail tape measure protein'),\n",
       " ('CUT98421.1', 'putative tail protein')]"
      ]
     },
     "execution_count": 61,
     "metadata": {},
     "output_type": "execute_result"
    }
   ],
   "source": [
    "phage_tail_genes.get(5305)"
   ]
  },
  {
   "cell_type": "code",
   "execution_count": 62,
   "id": "5330cef6",
   "metadata": {},
   "outputs": [
    {
     "data": {
      "text/plain": [
       "[('YP_009125674.1', 'tail completion or Neck1 protein'),\n",
       " ('YP_009125683.1', 'head-tail adaptor'),\n",
       " ('YP_009125686.1', 'major tail protein with Ig-like domain'),\n",
       " ('YP_009125687.1', 'tail assembly chaperone'),\n",
       " ('YP_009125688.1', 'tail length tape measure protein'),\n",
       " ('YP_009125691.1', 'tail assembly protein'),\n",
       " ('YP_009125692.1', 'tail assembly protein'),\n",
       " ('YP_009125693.1', 'tail assembly chaperone'),\n",
       " ('YP_009125694.1', 'tail assembly chaperone'),\n",
       " ('YP_009125695.1', 'tail protein')]"
      ]
     },
     "execution_count": 62,
     "metadata": {},
     "output_type": "execute_result"
    }
   ],
   "source": [
    "phage_tail_genes.get(5306)"
   ]
  },
  {
   "cell_type": "code",
   "execution_count": null,
   "id": "be3336f6",
   "metadata": {},
   "outputs": [],
   "source": [
    "df = pd.read_excel(\"data/InteractionsPhages_PseudomonasAeruginosa_Revised.xlsx\")\n",
    "interaction_matrix = pd.crosstab(df['bacterium_id'], df['bacteriophage_id'])"
   ]
  }
 ],
 "metadata": {
  "kernelspec": {
   "display_name": ".venv",
   "language": "python",
   "name": "python3"
  },
  "language_info": {
   "codemirror_mode": {
    "name": "ipython",
    "version": 3
   },
   "file_extension": ".py",
   "mimetype": "text/x-python",
   "name": "python",
   "nbconvert_exporter": "python",
   "pygments_lexer": "ipython3",
   "version": "3.13.3"
  }
 },
 "nbformat": 4,
 "nbformat_minor": 5
}
